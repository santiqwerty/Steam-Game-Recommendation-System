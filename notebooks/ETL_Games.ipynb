{
 "cells": [
  {
   "cell_type": "code",
   "execution_count": 17,
   "metadata": {},
   "outputs": [],
   "source": [
    "import pandas as pd\n",
    "from funciones import *"
   ]
  },
  {
   "cell_type": "code",
   "execution_count": 18,
   "metadata": {},
   "outputs": [],
   "source": [
    "file_path_steam_games = '../data/raw/output_steam_games.json'"
   ]
  },
  {
   "cell_type": "code",
   "execution_count": 19,
   "metadata": {},
   "outputs": [],
   "source": [
    "df_games = process_file(file_path_steam_games, '../data/interim/csv/games.csv', load_and_normalize_steam_games)"
   ]
  },
  {
   "cell_type": "code",
   "execution_count": 20,
   "metadata": {},
   "outputs": [],
   "source": [
    "df_games.dropna(how='all', inplace=True)\n",
    "df_games.reset_index(drop=True, inplace=True)\n",
    "\n",
    "for column in df_games.columns:\n",
    "    if column not in ['early_access', 'id', 'release_date', 'price']:\n",
    "        df_games[column] = df_games[column].astype(str)\n",
    "\n",
    "# Manejando las columnas que requieren un tratamiento especial\n",
    "df_games['early_access'] = df_games['early_access'].astype(bool)\n",
    "df_games['id'] = df_games['id'].astype('Int64')\n",
    "df_games['release_date'] = pd.to_datetime(df_games['release_date'], errors='coerce')\n",
    "\n",
    "# Copiar la columna 'price' a 'price_converted'\n",
    "df_games['price_converted'] = df_games['price']\n",
    "df_games['price_converted'] = df_games['price_converted'].apply(convert_price)\n",
    "\n",
    "df_games.drop(columns=['price', 'title', 'url', 'reviews_url', 'publisher', 'genres', 'specs', 'early_access'], inplace=True)\n",
    "\n",
    "df_games.rename(columns={'price_converted': 'price'}, inplace=True)\n",
    "df_games['id'] = df_games['id'].fillna(-1).astype(int)\n",
    "df_games['price'] = df_games['price'].fillna(-1).astype(float)\n"
   ]
  },
  {
   "cell_type": "code",
   "execution_count": 21,
   "metadata": {},
   "outputs": [],
   "source": [
    "\n",
    "# Reemplazar valores nulos con 'Valor Desconocido (NULL)'\n",
    "df_games[['app_name']] = df_games[['app_name']].fillna('Valor Desconocido (NULL)')\n",
    "df_games[['developer']] = df_games[['developer']].fillna('Valor Desconocido (NULL)')\n",
    "\n",
    "# Verificar que no hay más valores nulos en el DataFrame\n",
    "# print(df_games_clean.isnull().sum())\n",
    "\n",
    "# Aplicar la función a las columnas 'genres', 'tags', y 'specs'\n",
    "for column in [ 'tags']:\n",
    "    df_games[column] = df_games[column].apply(convert_string_to_list)\n",
    "\n",
    "# # Verificar los cambios\n",
    "# print(df_games[['genres', 'tags', 'specs', 'release_date']].head())\n",
    "\n",
    "df_games['release_date'] = pd.to_datetime(df_games['release_date'], errors='coerce')\n",
    "\n",
    "# Extract the year from the release_date column\n",
    "df_games['release_year'] = df_games['release_date'].dt.year\n",
    "\n",
    "# Fill NaT values with a placeholder value, here we use -1\n",
    "df_games['release_year'] = df_games['release_year'].fillna(-1).astype(int)  # Combined fillna and astype\n",
    "\n",
    "# Now, drop the release_date column as it's no longer needed\n",
    "df_games.drop(columns=['release_date'], inplace=True)"
   ]
  },
  {
   "cell_type": "code",
   "execution_count": 22,
   "metadata": {
    "notebookRunGroups": {
     "groupValue": ""
    }
   },
   "outputs": [],
   "source": [
    "df_games = pd.read_parquet('../data/interim/parquet/clean_games.parquet')"
   ]
  },
  {
   "cell_type": "code",
   "execution_count": 23,
   "metadata": {},
   "outputs": [
    {
     "name": "stdout",
     "output_type": "stream",
     "text": [
      "                  app_name      id         developer  price  release_year  \\\n",
      "0      Lost Summoner Kitty  761140         Kotoshiro   4.99          2018   \n",
      "1                Ironbound  643980  Secret Level SRL   0.00          2018   \n",
      "2  Real Pool 3D - Poolians  670290      Poolians.com   0.00          2017   \n",
      "3                  弹炸人2222  767400              彼岸领域   0.99          2017   \n",
      "4            Log Challenge  773570               nan   2.99            -1   \n",
      "\n",
      "   1980s  1990's  2.5D  2D  2D Fighter  ...  Warhammer 40K  Web Publishing  \\\n",
      "0      0       0     0   0           0  ...              0               0   \n",
      "1      0       0     0   1           0  ...              0               0   \n",
      "2      0       0     0   0           0  ...              0               0   \n",
      "3      0       0     0   0           0  ...              0               0   \n",
      "4      0       0     0   0           0  ...              0               0   \n",
      "\n",
      "   Werewolves  Western  Word Game  World War I  World War II  Wrestling  \\\n",
      "0           0        0          0            0             0          0   \n",
      "1           0        0          0            0             0          0   \n",
      "2           0        0          0            0             0          0   \n",
      "3           0        0          0            0             0          0   \n",
      "4           0        0          0            0             0          0   \n",
      "\n",
      "   Zombies  e-sports  \n",
      "0        0         0  \n",
      "1        0         0  \n",
      "2        0         0  \n",
      "3        0         0  \n",
      "4        0         0  \n",
      "\n",
      "[5 rows x 344 columns]\n"
     ]
    }
   ],
   "source": [
    "from sklearn.preprocessing import MultiLabelBinarizer\n",
    "\n",
    "# Instanciar MultiLabelBinarizer\n",
    "mlb = MultiLabelBinarizer()\n",
    "\n",
    "# Ajustar y transformar los datos\n",
    "one_hot_encoded = mlb.fit_transform(df_games['tags'])\n",
    "\n",
    "# Crear un DataFrame a partir de la codificación one-hot\n",
    "df_one_hot_encoded = pd.DataFrame(one_hot_encoded, columns=mlb.classes_)\n",
    "\n",
    "# Concatenar el DataFrame original con el DataFrame one-hot encoded\n",
    "df_games = pd.concat([df_games, df_one_hot_encoded], axis=1)\n",
    "\n",
    "# Opcional: eliminar la columna 'tags' original\n",
    "df_games.drop(columns='tags', inplace=True)\n",
    "\n",
    "# Mostrar las primeras filas del DataFrame\n",
    "print(df_games.head())\n"
   ]
  },
  {
   "cell_type": "markdown",
   "metadata": {},
   "source": [
    "# Reduccion de dimensionalidad"
   ]
  },
  {
   "cell_type": "code",
   "execution_count": 24,
   "metadata": {},
   "outputs": [
    {
     "name": "stdout",
     "output_type": "stream",
     "text": [
      "<class 'pandas.core.frame.DataFrame'>\n",
      "RangeIndex: 32135 entries, 0 to 32134\n",
      "Columns: 344 entries, app_name to e-sports\n",
      "dtypes: float64(1), int32(341), object(2)\n",
      "memory usage: 42.5+ MB\n"
     ]
    }
   ],
   "source": [
    "df_games.info()"
   ]
  },
  {
   "cell_type": "code",
   "execution_count": 25,
   "metadata": {},
   "outputs": [
    {
     "name": "stdout",
     "output_type": "stream",
     "text": [
      "Porcentajes por columna antes de filtrar:\n",
      " Indie            54.831181\n",
      "Action           40.469893\n",
      "Adventure        30.592812\n",
      "Casual           30.306519\n",
      "Simulation       24.054769\n",
      "                   ...    \n",
      "Underground       0.018671\n",
      "Voice Control     0.015559\n",
      "Cycling           0.015559\n",
      "Faith             0.012447\n",
      "Bikes             0.006224\n",
      "Length: 339, dtype: float64\n",
      "\n",
      "Porcentajes por columna después de filtrar:\n",
      " Indie                    54.831181\n",
      "Action                   40.469893\n",
      "Adventure                30.592812\n",
      "Casual                   30.306519\n",
      "Simulation               24.054769\n",
      "Strategy                 23.544422\n",
      "RPG                      18.419169\n",
      "Singleplayer             13.524195\n",
      "Free to Play              7.487164\n",
      "Multiplayer               7.415590\n",
      "Great Soundtrack          6.955033\n",
      "Puzzle                    6.569161\n",
      "Early Access              6.058814\n",
      "2D                        6.052591\n",
      "Atmospheric               6.021472\n",
      "VR                        5.588922\n",
      "Sports                    4.969659\n",
      "Platformer                4.509102\n",
      "Story Rich                4.499767\n",
      "Sci-fi                    4.319278\n",
      "Fantasy                   4.241481\n",
      "Horror                    4.145013\n",
      "Open World                4.104559\n",
      "Difficult                 4.085888\n",
      "Anime                     4.054769\n",
      "Massively Multiplayer     4.001867\n",
      "Pixel Graphics            3.861833\n",
      "Co-op                     3.843162\n",
      "Shooter                   3.840050\n",
      "Racing                    3.824490\n",
      "Female Protagonist        3.665785\n",
      "Funny                     3.475961\n",
      "First-Person              3.379493\n",
      "FPS                       3.139879\n",
      "Sandbox                   3.021628\n",
      "Arcade                    3.012292\n",
      "dtype: float64\n"
     ]
    }
   ],
   "source": [
    "# Obtener el índice de la columna 'release_year'\n",
    "tag_columns_start_idx = df_games.columns.get_loc('release_year') + 1\n",
    "\n",
    "# Ahora sumar solo las columnas de tags\n",
    "tag_counts = df_games.iloc[:, tag_columns_start_idx:].sum()\n",
    "\n",
    "# Calcular el porcentaje de cada tag\n",
    "tag_percentage = (tag_counts / len(df_games)) * 100\n",
    "\n",
    "# Ordenar los tags por su porcentaje de ocurrencia (de mayor a menor)\n",
    "sorted_tag_percentage = tag_percentage.sort_values(ascending=False)\n",
    "\n",
    "# Imprimir los porcentajes por columna antes de filtrar\n",
    "print(\"Porcentajes por columna antes de filtrar:\\n\", sorted_tag_percentage)\n",
    "\n",
    "# Definir el umbral (puedes cambiar este valor para experimentar)\n",
    "umbral = 3\n",
    "\n",
    "# Seleccionar tags basados en el umbral definido\n",
    "significant_tags = sorted_tag_percentage[sorted_tag_percentage > umbral]\n",
    "\n",
    "# Mantener solo las columnas de tags significativas junto con las primeras columnas originales\n",
    "columns_to_keep = list(df_games.columns[:tag_columns_start_idx]) + list(significant_tags.index)\n",
    "df_games = df_games[columns_to_keep]\n",
    "\n",
    "# Sumar solo las columnas de tags significativas en el DataFrame actualizado\n",
    "significant_tag_counts = df_games.iloc[:, tag_columns_start_idx:].sum()\n",
    "\n",
    "# Calcular el porcentaje de cada tag significativo\n",
    "significant_tag_percentage = (significant_tag_counts / len(df_games)) * 100\n",
    "\n",
    "# Ordenar los tags significativos por su porcentaje de ocurrencia (de mayor a menor)\n",
    "sorted_significant_tag_percentage = significant_tag_percentage.sort_values(ascending=False)\n",
    "\n",
    "# Imprimir los porcentajes por columna después de filtrar\n",
    "print(\"\\nPorcentajes por columna después de filtrar:\\n\", sorted_significant_tag_percentage)\n"
   ]
  },
  {
   "cell_type": "code",
   "execution_count": 26,
   "metadata": {},
   "outputs": [],
   "source": [
    "# Guardar el DataFrame actualizado\n",
    "df_games.to_csv('../data/interim/csv/final_games.csv', index=False)\n",
    "df_games.to_parquet('../data/interim/parquet/final_games.parquet')\n"
   ]
  },
  {
   "cell_type": "code",
   "execution_count": 27,
   "metadata": {},
   "outputs": [
    {
     "name": "stdout",
     "output_type": "stream",
     "text": [
      "<class 'pandas.core.frame.DataFrame'>\n",
      "RangeIndex: 32135 entries, 0 to 32134\n",
      "Data columns (total 41 columns):\n",
      " #   Column                 Non-Null Count  Dtype  \n",
      "---  ------                 --------------  -----  \n",
      " 0   app_name               32135 non-null  object \n",
      " 1   id                     32135 non-null  int32  \n",
      " 2   developer              32135 non-null  object \n",
      " 3   price                  32135 non-null  float64\n",
      " 4   release_year           32135 non-null  int32  \n",
      " 5   Indie                  32135 non-null  int32  \n",
      " 6   Action                 32135 non-null  int32  \n",
      " 7   Adventure              32135 non-null  int32  \n",
      " 8   Casual                 32135 non-null  int32  \n",
      " 9   Simulation             32135 non-null  int32  \n",
      " 10  Strategy               32135 non-null  int32  \n",
      " 11  RPG                    32135 non-null  int32  \n",
      " 12  Singleplayer           32135 non-null  int32  \n",
      " 13  Free to Play           32135 non-null  int32  \n",
      " 14  Multiplayer            32135 non-null  int32  \n",
      " 15  Great Soundtrack       32135 non-null  int32  \n",
      " 16  Puzzle                 32135 non-null  int32  \n",
      " 17  Early Access           32135 non-null  int32  \n",
      " 18  2D                     32135 non-null  int32  \n",
      " 19  Atmospheric            32135 non-null  int32  \n",
      " 20  VR                     32135 non-null  int32  \n",
      " 21  Sports                 32135 non-null  int32  \n",
      " 22  Platformer             32135 non-null  int32  \n",
      " 23  Story Rich             32135 non-null  int32  \n",
      " 24  Sci-fi                 32135 non-null  int32  \n",
      " 25  Fantasy                32135 non-null  int32  \n",
      " 26  Horror                 32135 non-null  int32  \n",
      " 27  Open World             32135 non-null  int32  \n",
      " 28  Difficult              32135 non-null  int32  \n",
      " 29  Anime                  32135 non-null  int32  \n",
      " 30  Massively Multiplayer  32135 non-null  int32  \n",
      " 31  Pixel Graphics         32135 non-null  int32  \n",
      " 32  Co-op                  32135 non-null  int32  \n",
      " 33  Shooter                32135 non-null  int32  \n",
      " 34  Racing                 32135 non-null  int32  \n",
      " 35  Female Protagonist     32135 non-null  int32  \n",
      " 36  Funny                  32135 non-null  int32  \n",
      " 37  First-Person           32135 non-null  int32  \n",
      " 38  FPS                    32135 non-null  int32  \n",
      " 39  Sandbox                32135 non-null  int32  \n",
      " 40  Arcade                 32135 non-null  int32  \n",
      "dtypes: float64(1), int32(38), object(2)\n",
      "memory usage: 5.4+ MB\n"
     ]
    }
   ],
   "source": [
    "df_games.info()"
   ]
  },
  {
   "cell_type": "code",
   "execution_count": 28,
   "metadata": {},
   "outputs": [
    {
     "name": "stdout",
     "output_type": "stream",
     "text": [
      "                  app_name      id         developer  price  release_year  \\\n",
      "0      Lost Summoner Kitty  761140         Kotoshiro   4.99          2018   \n",
      "1                Ironbound  643980  Secret Level SRL   0.00          2018   \n",
      "2  Real Pool 3D - Poolians  670290      Poolians.com   0.00          2017   \n",
      "3                  弹炸人2222  767400              彼岸领域   0.99          2017   \n",
      "4            Log Challenge  773570               nan   2.99            -1   \n",
      "\n",
      "   Indie  Action  Adventure  Casual  Simulation  ...  Pixel Graphics  Co-op  \\\n",
      "0      1       1          0       1           1  ...               0      0   \n",
      "1      1       0          0       0           0  ...               0      0   \n",
      "2      1       0          0       1           1  ...               0      0   \n",
      "3      0       1          1       1           0  ...               0      0   \n",
      "4      1       1          0       1           0  ...               0      0   \n",
      "\n",
      "   Shooter  Racing  Female Protagonist  Funny  First-Person  FPS  Sandbox  \\\n",
      "0        0       0                   0      0             0    0        0   \n",
      "1        0       0                   1      0             0    0        0   \n",
      "2        0       0                   0      0             0    0        0   \n",
      "3        0       0                   0      0             0    0        0   \n",
      "4        0       0                   0      0             0    0        0   \n",
      "\n",
      "   Arcade  \n",
      "0       0  \n",
      "1       0  \n",
      "2       0  \n",
      "3       0  \n",
      "4       0  \n",
      "\n",
      "[5 rows x 41 columns]\n"
     ]
    }
   ],
   "source": [
    "print(df_games.head())"
   ]
  }
 ],
 "metadata": {
  "kernelspec": {
   "display_name": "Python 3",
   "language": "python",
   "name": "python3"
  },
  "language_info": {
   "codemirror_mode": {
    "name": "ipython",
    "version": 3
   },
   "file_extension": ".py",
   "mimetype": "text/x-python",
   "name": "python",
   "nbconvert_exporter": "python",
   "pygments_lexer": "ipython3",
   "version": "3.11.5"
  },
  "orig_nbformat": 4
 },
 "nbformat": 4,
 "nbformat_minor": 2
}
